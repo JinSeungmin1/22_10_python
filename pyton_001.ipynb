{
  "nbformat": 4,
  "nbformat_minor": 0,
  "metadata": {
    "colab": {
      "provenance": [],
      "authorship_tag": "ABX9TyM0KN4LbFnYQjU0wRz4XOjc",
      "include_colab_link": true
    },
    "kernelspec": {
      "name": "python3",
      "display_name": "Python 3"
    },
    "language_info": {
      "name": "python"
    }
  },
  "cells": [
    {
      "cell_type": "markdown",
      "metadata": {
        "id": "view-in-github",
        "colab_type": "text"
      },
      "source": [
        "<a href=\"https://colab.research.google.com/github/JinSeungmin1/22_10_python/blob/main/pyton_001.ipynb\" target=\"_parent\"><img src=\"https://colab.research.google.com/assets/colab-badge.svg\" alt=\"Open In Colab\"/></a>"
      ]
    },
    {
      "cell_type": "markdown",
      "source": [
        "코랩과 깃헙의 첫번째 연결을 진행합니다."
      ],
      "metadata": {
        "id": "fN_eBRG2liw2"
      }
    },
    {
      "cell_type": "code",
      "source": [
        "print(\"Hello Github\")\n",
        "print(\"Hello python\")"
      ],
      "metadata": {
        "colab": {
          "base_uri": "https://localhost:8080/"
        },
        "id": "5p89BbHLmziK",
        "outputId": "a81699c3-cd0c-4236-e78b-13e2422440f1"
      },
      "execution_count": 1,
      "outputs": [
        {
          "output_type": "stream",
          "name": "stdout",
          "text": [
            "Hello Github\n",
            "Hello python\n"
          ]
        }
      ]
    }
  ]
}